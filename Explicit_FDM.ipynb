{
 "cells": [
  {
   "cell_type": "code",
   "execution_count": 27,
   "metadata": {
    "collapsed": false
   },
   "outputs": [
    {
     "name": "stdout",
     "output_type": "stream",
     "text": [
      "[[ 6.85590488]\n",
      " [ 0.99956897]]\n"
     ]
    }
   ],
   "source": [
    "import numpy as np\n",
    "from numpy import linalg as la\n",
    "#####################################################################################\n",
    "#################Explicit Finite Differences Method on S=exp(x)######################\n",
    "#--#--#--#--#--#--#--#--#--#--#--#--#--#--#--#--#--#--#--#--#--#--#--#--#--#--#--#--#\n",
    "#########################===========!The Function!==========#########################\n",
    "#--#--#--#--#--#--#--#--#--#--#--#--#--#--#--#--#--#--#--#--#--#--#--#--#--#--#--#--#\n",
    "#This function will return the FairValue of a Vanilla European Call/Put\n",
    "# S_max: is a high Stock Price, that cannot be reached\n",
    "# T:     is the maturity\n",
    "# r:     is the risk free rate\n",
    "# q:     is the dividend yield\n",
    "# sigma: is the volatility of the stock\n",
    "# N:     is the time discretization number\n",
    "# M:     is the stock discretization parameter\n",
    "# isCall:is the derivative type call or put\n",
    "# isAmerican: Trivial\n",
    "def VanillaOption(S_max,\n",
    "                  T,\n",
    "                  K,\n",
    "                  r,\n",
    "                  q,\n",
    "                  sigma,\n",
    "                  N,\n",
    "                  M,\n",
    "                  isCall,\n",
    "                  isAmerican):\n",
    "    outVector = np.zeros((2,1),dtype = float)\n",
    "    #Discretization of the Stock and the Time\n",
    "    dS=S_max/float(M)   \n",
    "    dt=T/float(N)\n",
    "    \n",
    "    j=np.arange(1,M,dtype=np.float)   \n",
    "    \n",
    "    #'Transition Probabilities'\n",
    "    a=(-0.5*(r-q)*dt*j+0.5*sigma**2*dt*j**2)/(1.0+r*dt)\n",
    "    b=(1.0-sigma**2*dt*j**2)/(1.0+r*dt)\n",
    "    c=(0.5*(r-q)*dt*j+0.5*sigma**2*dt*j**2)/(1.0+r*dt)\n",
    "    #The matrix from the transition probabilities\n",
    "    A=np.diag(b)+np.diag(a[1:],k=-1)+np.diag(c[0:M-2],k=1)\n",
    "    infinityNormOfA = la.norm(A,np.inf)\n",
    "    outVector[1] = infinityNormOfA\n",
    "    #The matrix for the option price\n",
    "    #N+1: Time Steps\n",
    "    #M+1: Stock Steps\n",
    "    FV=np.zeros((N+1,M+1))\n",
    "    \n",
    "    #Set up the boundary conditions\n",
    "        #-> At time 0 the values are zero\n",
    "        #-> The maximum value is S_max\n",
    "    FV[:,0]=0\n",
    "    FV[:,M]=S_max#[S_max * np.exp(-r*( N - j)*dt) for j in range(N+1)]\n",
    "    if(bool(isCall)):\n",
    "        FV[N,:]=np.maximum(np.arange(0,S_max+dS/2.0,dS,dtype=np.float)-K,0)\n",
    "    else:\n",
    "        FV[N,:]=np.maximum(K-np.arange(0,S_max+dS/2.0,dS,dtype=np.float),0)\n",
    "    \n",
    "    FV=np.matrix(np.array(FV))\n",
    "    #Start the Backward Iteration\n",
    "    for i in range(FV.shape[0]-2,-1,-1):\n",
    "        k_i=np.zeros((M-1,1))\n",
    "        #Inserts the first and the last element\n",
    "        k_i[0]=a[0]*FV[i+1,0] \n",
    "        k_i[M-2]=c[M-2]*FV[i+1,M]\n",
    "        \n",
    "        FV[i,1:M]=np.dot(FV[i+1,1:M],A)+np.matrix(np.array(k_i)).transpose()\n",
    "        \n",
    "        if(bool(isAmerican)):\n",
    "            if(bool(isCall)):\n",
    "                FV[i,:] = np.maximum(np.arange(0,S_max+dS/2,dS,dtype=float)-K,FV[i,:]) \n",
    "            else:\n",
    "                FV[i,:] = np.maximum(K-np.arange(0,S_max+dS/2,dS,dtype=float),FV[i,:])\n",
    "        outVector[0] = FV[0,(FV.shape[1]+2)/2]\n",
    "    return outVector\n",
    "#--#--#--#--#--#--#--#--#--#--#--#--#--#--#--#--#--#--#--#--#--#--#--#--#--#--#--#--#\n",
    "#########################========End Of The Function========#########################\n",
    "#--#--#--#--#--#--#--#--#--#--#--#--#--#--#--#--#--#--#--#--#--#--#--#--#--#--#--#--#\n",
    "S_max = 100.0\n",
    "T=1.0\n",
    "K=50.0\n",
    "r=0.1\n",
    "q=0.01\n",
    "sigma = 0.25\n",
    "N=200\n",
    "M=50\n",
    "isCall = 1\n",
    "isAmerican = 0\n",
    "print VanillaOption(S_max,\n",
    "                    T,\n",
    "                    K,\n",
    "                    r,\n",
    "                    q,\n",
    "                    sigma,\n",
    "                    N,\n",
    "                    M,\n",
    "                    isCall,\n",
    "                    isAmerican)        \n"
   ]
  },
  {
   "cell_type": "code",
   "execution_count": 185,
   "metadata": {
    "collapsed": false
   },
   "outputs": [
    {
     "data": {
      "text/plain": [
       "6.7032679441871466"
      ]
     },
     "execution_count": 185,
     "metadata": {},
     "output_type": "execute_result"
    }
   ],
   "source": [
    "import math as math\n",
    "def phi(x):\n",
    "    'Cumulative distribution function for the standard normal distribution'\n",
    "    return (1.0 + math.erf(x / sqrt(2.0))) / 2.0\n",
    "def BlackScholes(S,\n",
    "                 T,\n",
    "                 K,\n",
    "                 r,\n",
    "                 q,\n",
    "                 sigma,\n",
    "                 isCall):\n",
    "    d1=(np.log(S/K)-0.5*T*(r-q))/(sigma*np.sqrt(T))+0.5*np.sqrt(T)*sigma\n",
    "    d2=d1-np.sqrt(T)*sigma\n",
    "    return S*phi(d1)- math.exp(-r*T)*K*phi(d2)\n",
    "BlackScholes(50,1,50,0.1,0.01,0.25,0)\n",
    "\n"
   ]
  },
  {
   "cell_type": "code",
   "execution_count": null,
   "metadata": {
    "collapsed": true
   },
   "outputs": [],
   "source": []
  }
 ],
 "metadata": {
  "kernelspec": {
   "display_name": "Python 2",
   "language": "python",
   "name": "python2"
  },
  "language_info": {
   "codemirror_mode": {
    "name": "ipython",
    "version": 2
   },
   "file_extension": ".py",
   "mimetype": "text/x-python",
   "name": "python",
   "nbconvert_exporter": "python",
   "pygments_lexer": "ipython2",
   "version": "2.7.12"
  }
 },
 "nbformat": 4,
 "nbformat_minor": 2
}
